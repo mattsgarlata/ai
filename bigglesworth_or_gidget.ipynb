{
 "cells": [
  {
   "cell_type": "code",
   "execution_count": 1,
   "id": "100f154e",
   "metadata": {
    "ExecuteTime": {
     "end_time": "2024-02-02T23:37:16.802066Z",
     "start_time": "2024-02-02T23:36:05.515994Z"
    }
   },
   "outputs": [
    {
     "name": "stdout",
     "output_type": "stream",
     "text": [
      "Note: you may need to restart the kernel to use updated packages.\n"
     ]
    }
   ],
   "source": [
    "pip install -Uqq fastbook"
   ]
  },
  {
   "cell_type": "code",
   "execution_count": 2,
   "id": "cfaf9458",
   "metadata": {
    "ExecuteTime": {
     "end_time": "2024-02-02T23:38:33.452324Z",
     "start_time": "2024-02-02T23:37:27.565644Z"
    }
   },
   "outputs": [],
   "source": [
    "! [ -e /content ] && pip install -Uqq fastbook\n",
    "import fastbook\n",
    "fastbook.setup_book()"
   ]
  },
  {
   "cell_type": "code",
   "execution_count": 3,
   "id": "7e754a84",
   "metadata": {
    "ExecuteTime": {
     "end_time": "2024-02-02T23:38:57.109342Z",
     "start_time": "2024-02-02T23:38:57.104265Z"
    }
   },
   "outputs": [],
   "source": [
    "from fastbook import *\n",
    "from fastai.vision.widgets import *"
   ]
  },
  {
   "cell_type": "code",
   "execution_count": 4,
   "id": "b5562aa5",
   "metadata": {
    "ExecuteTime": {
     "end_time": "2024-02-02T23:38:58.170833Z",
     "start_time": "2024-02-02T23:38:58.167235Z"
    }
   },
   "outputs": [],
   "source": [
    "key = os.environ.get('AZURE_SEARCH_KEY', 'f271870f34c045bf8abb7cbb26760e7c')"
   ]
  },
  {
   "cell_type": "code",
   "execution_count": 7,
   "id": "0b039585",
   "metadata": {
    "ExecuteTime": {
     "end_time": "2024-02-02T23:40:38.961722Z",
     "start_time": "2024-02-02T23:40:29.840729Z"
    }
   },
   "outputs": [],
   "source": [
    "imagesPath = Path('images')\n",
    "imagesPath.mkdir(exist_ok=True)"
   ]
  },
  {
   "cell_type": "code",
   "execution_count": null,
   "id": "fdec3c83",
   "metadata": {},
   "outputs": [],
   "source": [
    "# Download Bigglesworth images\n",
    "bigglesworthPath = imagesPath/'bigglesworth'\n",
    "bigglesworthPath.mkdir(exist_ok=True)\n",
    "results = search_images_bing(key, 'mr bigglesworth')\n",
    "download_images(bigglesworthPath, urls=results.attrgot('contentUrl'))"
   ]
  },
  {
   "cell_type": "code",
   "outputs": [],
   "source": [
    "# Download the Gidget images\n",
    "gidgetPath = imagesPath/'gidget'\n",
    "gidgetPath.mkdir(exist_ok=True)\n",
    "results = search_images_bing(key, 'taco bell chihuahua')\n",
    "download_images(gidgetPath, urls=results.attrgot('contentUrl'))"
   ],
   "metadata": {
    "collapsed": false,
    "ExecuteTime": {
     "end_time": "2024-02-02T23:42:17.935240Z",
     "start_time": "2024-02-02T23:42:09.812191Z"
    }
   },
   "id": "1fa8c517631681ef",
   "execution_count": 8
  },
  {
   "cell_type": "code",
   "outputs": [],
   "source": [],
   "metadata": {
    "collapsed": false
   },
   "id": "84a6b8552dc3bc47"
  }
 ],
 "metadata": {
  "kernelspec": {
   "display_name": "Python 3 (ipykernel)",
   "language": "python",
   "name": "python3"
  },
  "language_info": {
   "codemirror_mode": {
    "name": "ipython",
    "version": 3
   },
   "file_extension": ".py",
   "mimetype": "text/x-python",
   "name": "python",
   "nbconvert_exporter": "python",
   "pygments_lexer": "ipython3",
   "version": "3.11.5"
  },
  "toc": {
   "base_numbering": 1,
   "nav_menu": {},
   "number_sections": true,
   "sideBar": true,
   "skip_h1_title": false,
   "title_cell": "Table of Contents",
   "title_sidebar": "Contents",
   "toc_cell": false,
   "toc_position": {},
   "toc_section_display": true,
   "toc_window_display": false
  }
 },
 "nbformat": 4,
 "nbformat_minor": 5
}
